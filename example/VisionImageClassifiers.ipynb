{
 "cells": [
  {
   "cell_type": "code",
   "execution_count": 1,
   "metadata": {},
   "outputs": [],
   "source": [
    "%matplotlib inline\n",
    "%load_ext autoreload\n",
    "%autoreload 2"
   ]
  },
  {
   "cell_type": "code",
   "execution_count": 2,
   "metadata": {},
   "outputs": [],
   "source": [
    "import torch\n",
    "import torch.nn as nn\n",
    "import torch.optim as optim\n",
    "\n",
    "from torchwisdom.vision.data import *\n",
    "from torchwisdom.vision.trainer import ConvClassifierTrainer\n",
    "from torchwisdom.core.callback import AccuracyCallback, AccuracyTopKCallback, MSECallback, AccuracyRegressionCallback\n",
    "from torchwisdom.vision.models import SimpleCNN"
   ]
  },
  {
   "cell_type": "code",
   "execution_count": 3,
   "metadata": {},
   "outputs": [],
   "source": [
    "root_path = '/data/att_faces_new/'\n",
    "data = image_classifier_data(root_path, image_size=(64, 64))"
   ]
  },
  {
   "cell_type": "code",
   "execution_count": 4,
   "metadata": {},
   "outputs": [
    {
     "data": {
      "text/plain": [
       "torch.Size([32, 3, 64, 64])"
      ]
     },
     "execution_count": 4,
     "metadata": {},
     "output_type": "execute_result"
    }
   ],
   "source": [
    "x,y = next(iter(data.valid_loader))\n",
    "x.shape"
   ]
  },
  {
   "cell_type": "code",
   "execution_count": 5,
   "metadata": {},
   "outputs": [],
   "source": [
    "scnn = SimpleCNN(in_chan=3, num_classes=40, input_size=(64, 64))\n",
    "xin = torch.rand(1,3,64,64)"
   ]
  },
  {
   "cell_type": "code",
   "execution_count": 6,
   "metadata": {},
   "outputs": [],
   "source": [
    "trainer = ConvClassifierTrainer(data=data, model=scnn)\n",
    "trainer.compile(optimizer='adam', criterion=nn.CrossEntropyLoss())\n",
    "trainer.resumeable(True)\n",
    "trainer.save_best(True)"
   ]
  },
  {
   "cell_type": "code",
   "execution_count": 7,
   "metadata": {},
   "outputs": [
    {
     "data": {
      "text/html": [
       "Total time: 00:03 <p><table border=\"1\" class=\"dataframe\">\n",
       "  <thead>\n",
       "    <tr style=\"text-align: left;\">\n",
       "      <th>epoch</th>\n",
       "      <th>trn_loss</th>\n",
       "      <th>val_loss</th>\n",
       "      <th>time</th>\n",
       "      <th>remain</th>\n",
       "    </tr>\n",
       "  </thead>\n",
       "  <tbody>\n",
       "    <tr>\n",
       "      <td>1</td>\n",
       "      <td>307.868835</td>\n",
       "      <td>97.119591</td>\n",
       "      <td>0:00:01.35</td>\n",
       "      <td>0:00:01.35</td>\n",
       "    </tr>\n",
       "    <tr>\n",
       "      <td>2</td>\n",
       "      <td>194.229492</td>\n",
       "      <td>144.143799</td>\n",
       "      <td>0:00:01.43</td>\n",
       "      <td>0:00:00.08</td>\n",
       "    </tr>\n",
       "  </tbody>\n",
       "</table>"
      ],
      "text/plain": [
       "<IPython.core.display.HTML object>"
      ]
     },
     "metadata": {},
     "output_type": "display_data"
    },
    {
     "data": {
      "image/png": "[encoded data removed]",
      "text/plain": [
       "<Figure size 432x288 with 1 Axes>"
      ]
     },
     "metadata": {},
     "output_type": "display_data"
    }
   ],
   "source": [
    "trainer.fit(2, lr=0.02)"
   ]
  },
  {
   "cell_type": "code",
   "execution_count": 8,
   "metadata": {},
   "outputs": [],
   "source": [
    "feat, targ = next(iter(data.valid_loader))"
   ]
  },
  {
   "cell_type": "code",
   "execution_count": 11,
   "metadata": {},
   "outputs": [
    {
     "data": {
      "text/plain": [
       "(tensor([[9.4736e-01, 5.2650e-02, 1.7722e-17],\n",
       "         [9.9902e-01, 9.7161e-04, 8.1237e-07]]), tensor([[20, 23, 33],\n",
       "         [20, 23, 33]]), [['s28', 's30', 's4'], ['s28', 's30', 's4']])"
      ]
     },
     "execution_count": 11,
     "metadata": {},
     "output_type": "execute_result"
    }
   ],
   "source": [
    "trainer.predict(feat[:2], use_topk=True, kval=3)"
   ]
  },
  {
   "cell_type": "code",
   "execution_count": 28,
   "metadata": {},
   "outputs": [],
   "source": [
    "trainer.export(\"export/faces_export.pth\")"
   ]
  },
  {
   "cell_type": "code",
   "execution_count": 29,
   "metadata": {},
   "outputs": [
    {
     "data": {
      "text/plain": [
       "(tensor([[0.9678, 0.0318],\n",
       "         [0.9890, 0.0057],\n",
       "         [0.9887, 0.0110],\n",
       "         [0.9876, 0.0114],\n",
       "         [0.8361, 0.0747],\n",
       "         [0.8982, 0.1014],\n",
       "         [0.9268, 0.0555],\n",
       "         [0.5092, 0.2017],\n",
       "         [0.9202, 0.0446],\n",
       "         [0.5354, 0.3819]]), tensor([[15, 35],\n",
       "         [35, 30],\n",
       "         [15, 35],\n",
       "         [35, 15],\n",
       "         [18, 35],\n",
       "         [15, 35],\n",
       "         [35, 15],\n",
       "         [35, 30],\n",
       "         [30, 18],\n",
       "         [15, 18]]), [['s23', 's5'],\n",
       "  ['s5', 's37'],\n",
       "  ['s23', 's5'],\n",
       "  ['s5', 's23'],\n",
       "  ['s26', 's5'],\n",
       "  ['s23', 's5'],\n",
       "  ['s5', 's23'],\n",
       "  ['s5', 's37'],\n",
       "  ['s37', 's26'],\n",
       "  ['s23', 's26']])"
      ]
     },
     "execution_count": 29,
     "metadata": {},
     "output_type": "execute_result"
    }
   ],
   "source": [
    "from torchwisdom.vision.data import *\n",
    "from torchwisdom.vision.models import SimpleCNN\n",
    "from torchwisdom.vision.trainer import ConvClassifierTrainer\n",
    "from torchwisdom.vision.predictor import *\n",
    "\n",
    "\n",
    "root_path = '/data/att_faces_new/'\n",
    "data = image_classifier_data(root_path, image_size=(64, 64))\n",
    "feat, targ = next(iter(data.valid_loader))\n",
    "\n",
    "predictor = ConvClassifierPredictor(\"export/faces_export.pth\")\n",
    "predictor.predict(feat[:10], use_topk=True, kval=2)"
   ]
  },
  {
   "cell_type": "code",
   "execution_count": null,
   "metadata": {},
   "outputs": [],
   "source": []
  }
 ],
 "metadata": {
  "kernelspec": {
   "display_name": "Python 3",
   "language": "python",
   "name": "python3"
  },
  "language_info": {
   "codemirror_mode": {
    "name": "ipython",
    "version": 3
   },
   "file_extension": ".py",
   "mimetype": "text/x-python",
   "name": "python",
   "nbconvert_exporter": "python",
   "pygments_lexer": "ipython3",
   "version": "3.7.3"
  }
 },
 "nbformat": 4,
 "nbformat_minor": 2
}
